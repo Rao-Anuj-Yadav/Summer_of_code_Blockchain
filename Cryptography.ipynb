{
  "nbformat": 4,
  "nbformat_minor": 0,
  "metadata": {
    "colab": {
      "provenance": []
    },
    "kernelspec": {
      "name": "python3",
      "display_name": "Python 3"
    },
    "language_info": {
      "name": "python"
    }
  },
  "cells": [
    {
      "cell_type": "markdown",
      "source": [
        "The detaild Description and the mathematics behind each of the follwing cryptographic functions can be found in the report accompaning this jupyter notebook."
      ],
      "metadata": {
        "id": "v_czuVw-tcC4"
      }
    },
    {
      "cell_type": "markdown",
      "source": [
        "# **Hash Functions**\n",
        "We will implement a code for the SHA-256, below is using the hashlib module."
      ],
      "metadata": {
        "id": "svFRA9y9hO7V"
      }
    },
    {
      "cell_type": "code",
      "execution_count": 1,
      "metadata": {
        "colab": {
          "base_uri": "https://localhost:8080/"
        },
        "id": "TvHT2fLugCdh",
        "outputId": "85250ef6-a507-4a1d-9ad4-cc30b783cb04"
      },
      "outputs": [
        {
          "output_type": "stream",
          "name": "stdout",
          "text": [
            "SHA-256 hash of 'Hello, World!': dffd6021bb2bd5b0af676290809ec3a53191dd81c7f70a4b28688a362182986f\n"
          ]
        }
      ],
      "source": [
        "import hashlib\n",
        "\n",
        "def calculate_sha256_string(text):\n",
        "    \"\"\"Calculate SHA-256 hash of a string.\"\"\"\n",
        "    sha256_hash = hashlib.sha256()\n",
        "    sha256_hash.update(text.encode('utf-8'))\n",
        "    return sha256_hash.hexdigest()\n",
        "\n",
        "\n",
        "text = \"Hello, World!\"\n",
        "hash_result = calculate_sha256_string(text)\n",
        "print(f\"SHA-256 hash of '{text}': {hash_result}\")"
      ]
    },
    {
      "cell_type": "markdown",
      "source": [
        "# **Diﬃe-Hellman**"
      ],
      "metadata": {
        "id": "O--4M-Umiw3e"
      }
    },
    {
      "cell_type": "code",
      "source": [
        "!pip install pycryptodome"
      ],
      "metadata": {
        "colab": {
          "base_uri": "https://localhost:8080/"
        },
        "id": "VFAHbqYzrqR5",
        "outputId": "2f04a81c-b542-4f94-cf54-e65cf5e473fd"
      },
      "execution_count": 3,
      "outputs": [
        {
          "output_type": "stream",
          "name": "stdout",
          "text": [
            "Collecting pycryptodome\n",
            "  Downloading pycryptodome-3.23.0-cp37-abi3-manylinux_2_17_x86_64.manylinux2014_x86_64.whl.metadata (3.4 kB)\n",
            "Downloading pycryptodome-3.23.0-cp37-abi3-manylinux_2_17_x86_64.manylinux2014_x86_64.whl (2.3 MB)\n",
            "\u001b[?25l   \u001b[90m━━━━━━━━━━━━━━━━━━━━━━━━━━━━━━━━━━━━━━━━\u001b[0m \u001b[32m0.0/2.3 MB\u001b[0m \u001b[31m?\u001b[0m eta \u001b[36m-:--:--\u001b[0m\r\u001b[2K   \u001b[91m━━━━━━━\u001b[0m\u001b[90m╺\u001b[0m\u001b[90m━━━━━━━━━━━━━━━━━━━━━━━━━━━━━━━━\u001b[0m \u001b[32m0.4/2.3 MB\u001b[0m \u001b[31m11.7 MB/s\u001b[0m eta \u001b[36m0:00:01\u001b[0m\r\u001b[2K   \u001b[91m━━━━━━━━━━━━━━━━━━━━━━━━━━━━━━━━━━━━━━━\u001b[0m\u001b[91m╸\u001b[0m \u001b[32m2.3/2.3 MB\u001b[0m \u001b[31m40.7 MB/s\u001b[0m eta \u001b[36m0:00:01\u001b[0m\r\u001b[2K   \u001b[90m━━━━━━━━━━━━━━━━━━━━━━━━━━━━━━━━━━━━━━━━\u001b[0m \u001b[32m2.3/2.3 MB\u001b[0m \u001b[31m31.7 MB/s\u001b[0m eta \u001b[36m0:00:00\u001b[0m\n",
            "\u001b[?25hInstalling collected packages: pycryptodome\n",
            "Successfully installed pycryptodome-3.23.0\n"
          ]
        }
      ]
    },
    {
      "cell_type": "code",
      "source": [
        "import random\n",
        "import hashlib\n",
        "from Crypto.Cipher import AES\n",
        "from Crypto.Util.Padding import pad, unpad\n",
        "import os\n",
        "\n",
        "def is_prime(n, k=5):\n",
        "    \"\"\"Miller-Rabin primality test\"\"\"\n",
        "    if n <= 1:\n",
        "        return False\n",
        "    elif n <= 3:\n",
        "        return True\n",
        "    elif n % 2 == 0:\n",
        "        return False\n",
        "\n",
        "    # Write n as d*2^s + 1\n",
        "    d = n - 1\n",
        "    s = 0\n",
        "    while d % 2 == 0:\n",
        "        d //= 2\n",
        "        s += 1\n",
        "\n",
        "    for _ in range(k):\n",
        "        a = random.randint(2, n - 2)\n",
        "        x = pow(a, d, n)\n",
        "        if x == 1 or x == n - 1:\n",
        "            continue\n",
        "        for __ in range(s - 1):\n",
        "            x = pow(x, 2, n)\n",
        "            if x == n - 1:\n",
        "                break\n",
        "        else:\n",
        "            return False\n",
        "    return True\n",
        "\n",
        "def generate_large_prime(bits=1024):\n",
        "    \"\"\"Generate a large prime number\"\"\"\n",
        "    while True:\n",
        "        p = random.getrandbits(bits)\n",
        "        p |= (1 << bits - 1) | 1  # Set MSB and LSB to ensure size and oddness\n",
        "        if is_prime(p):\n",
        "            return p\n",
        "\n",
        "def generate_primitive_root(p):\n",
        "    \"\"\"Find a primitive root modulo p\"\"\"\n",
        "    if p == 2:\n",
        "        return 1\n",
        "    # Factorize p-1\n",
        "    phi = p - 1\n",
        "    factors = set()\n",
        "    n = phi\n",
        "    for i in [2, 3, 5, 7, 11, 13, 17, 19, 23, 29, 31]:\n",
        "        while n % i == 0:\n",
        "            factors.add(i)\n",
        "            n = n // i\n",
        "    # Test for primitive roots\n",
        "    for g in range(2, p):\n",
        "        flag = True\n",
        "        for factor in factors:\n",
        "            if pow(g, phi // factor, p) == 1:\n",
        "                flag = False\n",
        "                break\n",
        "        if flag:\n",
        "            return g\n",
        "    return None\n",
        "\n",
        "def diffie_hellman_key_exchange():\n",
        "    \"\"\"Perform DH key exchange and return shared key\"\"\"\n",
        "    # Generate a large prime p and primitive root g\n",
        "    p = generate_large_prime(512)  # Using 512-bit prime for example\n",
        "    g = generate_primitive_root(p)\n",
        "\n",
        "    # Alice's private key\n",
        "    a_private = random.randint(2, p - 2)\n",
        "    # Alice's public key\n",
        "    A = pow(g, a_private, p)\n",
        "\n",
        "    # Bob's private key\n",
        "    b_private = random.randint(2, p - 2)\n",
        "    # Bob's public key\n",
        "    B = pow(g, b_private, p)\n",
        "\n",
        "    # Shared secret\n",
        "    alice_shared = pow(B, a_private, p)\n",
        "    bob_shared = pow(A, b_private, p)\n",
        "    assert alice_shared == bob_shared\n",
        "\n",
        "    # Derive AES key from shared secret\n",
        "    shared_key = hashlib.sha256(str(alice_shared).encode()).digest()\n",
        "    return shared_key\n",
        "\n",
        "def encrypt(message, key):\n",
        "    \"\"\"Encrypt message using AES-CBC\"\"\"\n",
        "    iv = os.urandom(16)\n",
        "    cipher = AES.new(key, AES.MODE_CBC, iv)\n",
        "    ciphertext = cipher.encrypt(pad(message.encode(), AES.block_size))\n",
        "    return iv + ciphertext\n",
        "\n",
        "def decrypt(ciphertext, key):\n",
        "    \"\"\"Decrypt message using AES-CBC\"\"\"\n",
        "    iv = ciphertext[:16]\n",
        "    cipher = AES.new(key, AES.MODE_CBC, iv)\n",
        "    plaintext = unpad(cipher.decrypt(ciphertext[16:]), AES.block_size)\n",
        "    return plaintext.decode()\n",
        "\n",
        "\n",
        "if __name__ == \"__main__\":\n",
        "\n",
        "    shared_key = diffie_hellman_key_exchange()\n",
        "    print(\"Shared AES Key:\", shared_key.hex())\n",
        "\n",
        "\n",
        "    message = \"Hello, World!\"\n",
        "    print(\"Original Message:\", message)\n",
        "\n",
        "    ciphertext = encrypt(message, shared_key)\n",
        "    print(\"Encrypted Message:\", ciphertext.hex())\n",
        "\n",
        "\n",
        "    decrypted = decrypt(ciphertext, shared_key)\n",
        "    print(\"Decrypted Message:\", decrypted)"
      ],
      "metadata": {
        "colab": {
          "base_uri": "https://localhost:8080/"
        },
        "id": "7J3dRECfiwIT",
        "outputId": "98239df5-f98a-41e8-f56b-13b9b92bbccf"
      },
      "execution_count": 7,
      "outputs": [
        {
          "output_type": "stream",
          "name": "stdout",
          "text": [
            "Shared AES Key: f89687ecea60b6c0a423ae6b9277dde5b9919c91e71516896f50609f2e6582d2\n",
            "Original Message: Hello, World!\n",
            "Encrypted Message: 2038ae78a237f40599922973bfa64f58ae2d1dc87a04e53bc83acd67b364994c\n",
            "Decrypted Message: Hello, World!\n"
          ]
        }
      ]
    },
    {
      "cell_type": "markdown",
      "source": [
        "# **Elliptic Curves**"
      ],
      "metadata": {
        "id": "NnwK_LA8uVlg"
      }
    },
    {
      "cell_type": "markdown",
      "source": [
        "Plotting an elliptic curve for a small prime field."
      ],
      "metadata": {
        "id": "ZJVErAA0u-iy"
      }
    },
    {
      "cell_type": "code",
      "source": [
        "import matplotlib.pyplot as plt\n",
        "\n",
        "def plot_elliptic_curve_finite_field(p, a, b):\n",
        "    \"\"\"Plots elliptic curve y² ≡ x³ + ax + b (mod p) over a finite field.\"\"\"\n",
        "    points = []\n",
        "    for x in range(p):\n",
        "        rhs = (x**3 + a * x + b) % p\n",
        "        for y in range(p):\n",
        "            if (y * y) % p == rhs:\n",
        "                points.append((x, y))\n",
        "\n",
        "    if points:\n",
        "        x_vals, y_vals = zip(*points)\n",
        "        plt.scatter(x_vals, y_vals, color='blue', s=5)\n",
        "        plt.title(f\"Elliptic Curve over F_{p}: y² = x³ + {a}x + {b}\")\n",
        "        plt.xlabel(\"x\")\n",
        "        plt.ylabel(\"y\")\n",
        "        plt.grid(True)\n",
        "        plt.xlim(0, p - 1)\n",
        "        plt.ylim(0, p - 1)\n",
        "        plt.gca().set_aspect('equal', adjustable='box')\n",
        "        plt.show()\n",
        "    else:\n",
        "        print(\"No points found on the curve!\")\n",
        "\n",
        "\n",
        "p_small = 97\n",
        "a_small = -3\n",
        "b_small = 4\n",
        "plot_elliptic_curve_finite_field(p_small, a_small, b_small)"
      ],
      "metadata": {
        "colab": {
          "base_uri": "https://localhost:8080/",
          "height": 472
        },
        "id": "PrIvRWeguUsi",
        "outputId": "1416ea7f-e25a-4355-8c5d-37a6c718e258"
      },
      "execution_count": 10,
      "outputs": [
        {
          "output_type": "display_data",
          "data": {
            "text/plain": [
              "<Figure size 640x480 with 1 Axes>"
            ],
            "image/png": "[encoded data removed]"
          },
          "metadata": {}
        }
      ]
    },
    {
      "cell_type": "markdown",
      "source": [
        "The same elliptic curve over the reals is a smooth curve"
      ],
      "metadata": {
        "id": "M527ko8uwSmO"
      }
    },
    {
      "cell_type": "code",
      "source": [
        "import numpy as np\n",
        "import matplotlib.pyplot as plt\n",
        "\n",
        "\n",
        "x = np.linspace(-2, 3, 500)\n",
        "y_squared = x**3 - 3*x + 4\n",
        "y_pos = np.sqrt(np.maximum(y_squared, 0))\n",
        "y_neg = -y_pos\n",
        "\n",
        "plt.plot(x, y_pos, 'b')\n",
        "plt.plot(x, y_neg, 'b')\n",
        "plt.title(\"Elliptic Curve over ℝ: y² = x³ - 3x + 4\")\n",
        "plt.grid(True)\n",
        "plt.axhline(0, color='black', linewidth=0.5)\n",
        "plt.axvline(0, color='black', linewidth=0.5)\n",
        "plt.gca().set_aspect('equal')\n",
        "plt.show()"
      ],
      "metadata": {
        "colab": {
          "base_uri": "https://localhost:8080/",
          "height": 452
        },
        "id": "E1lL0geMwWgN",
        "outputId": "d8a99b9c-ff25-47ca-9163-5237b22aa3ef"
      },
      "execution_count": 11,
      "outputs": [
        {
          "output_type": "display_data",
          "data": {
            "text/plain": [
              "<Figure size 640x480 with 1 Axes>"
            ],
            "image/png": "[encoded data removed]"
          },
          "metadata": {}
        }
      ]
    },
    {
      "cell_type": "markdown",
      "source": [
        "# **Digital Signatures**\n",
        "Below is an implementation of ECDSA(used by Bitcoin), but using the NIST256p curve"
      ],
      "metadata": {
        "id": "IVFiAafstO2P"
      }
    },
    {
      "cell_type": "code",
      "source": [
        "!pip install ecdsa"
      ],
      "metadata": {
        "colab": {
          "base_uri": "https://localhost:8080/"
        },
        "id": "gTWEq8SUvMkh",
        "outputId": "275c2d66-1940-420f-99a7-0e2ec42a508d"
      },
      "execution_count": 8,
      "outputs": [
        {
          "output_type": "stream",
          "name": "stdout",
          "text": [
            "Collecting ecdsa\n",
            "  Downloading ecdsa-0.19.1-py2.py3-none-any.whl.metadata (29 kB)\n",
            "Requirement already satisfied: six>=1.9.0 in /usr/local/lib/python3.11/dist-packages (from ecdsa) (1.17.0)\n",
            "Downloading ecdsa-0.19.1-py2.py3-none-any.whl (150 kB)\n",
            "\u001b[?25l   \u001b[90m━━━━━━━━━━━━━━━━━━━━━━━━━━━━━━━━━━━━━━━━\u001b[0m \u001b[32m0.0/150.6 kB\u001b[0m \u001b[31m?\u001b[0m eta \u001b[36m-:--:--\u001b[0m\r\u001b[2K   \u001b[90m━━━━━━━━━━━━━━━━━━━━━━━━━━━━━━━━━━━━━━━━\u001b[0m \u001b[32m150.6/150.6 kB\u001b[0m \u001b[31m7.4 MB/s\u001b[0m eta \u001b[36m0:00:00\u001b[0m\n",
            "\u001b[?25hInstalling collected packages: ecdsa\n",
            "Successfully installed ecdsa-0.19.1\n"
          ]
        }
      ]
    },
    {
      "cell_type": "code",
      "source": [
        "from ecdsa import SigningKey, NIST256p\n",
        "import hashlib\n",
        "\n",
        "def generate_keys():\n",
        "    \"\"\"Generate ECDSA key pair\"\"\"\n",
        "    private_key = SigningKey.generate(curve=NIST256p)\n",
        "    public_key = private_key.get_verifying_key()\n",
        "    return private_key, public_key\n",
        "\n",
        "def sign_message(private_key, message):\n",
        "    \"\"\"Sign a message with private key\"\"\"\n",
        "    # Hash the message first (common practice)\n",
        "    message_hash = hashlib.sha256(message.encode()).digest()\n",
        "    signature = private_key.sign(message_hash)\n",
        "    return signature\n",
        "\n",
        "def verify_signature(public_key, message, signature):\n",
        "    \"\"\"Verify a signature with public key\"\"\"\n",
        "    try:\n",
        "        message_hash = hashlib.sha256(message.encode()).digest()\n",
        "        return public_key.verify(signature, message_hash)\n",
        "    except:\n",
        "        return False\n",
        "\n",
        "\n",
        "if __name__ == \"__main__\":\n",
        "\n",
        "    private_key, public_key = generate_keys()\n",
        "    print(f\"Private key (hex): {private_key.to_string().hex()}\")\n",
        "    print(f\"Public key (hex): {public_key.to_string().hex()}\")\n",
        "\n",
        "\n",
        "    message = \"This is a test transaction for blockchain\"\n",
        "    signature = sign_message(private_key, message)\n",
        "    print(f\"Signature (hex): {signature.hex()}\")\n",
        "\n",
        "\n",
        "    is_valid = verify_signature(public_key, message, signature)\n",
        "    print(f\"Signature valid: {is_valid}\")\n",
        "\n",
        "    tampered_message = message + \" \"\n",
        "    is_valid_tampered = verify_signature(public_key, tampered_message, signature)\n",
        "    print(f\"Tampered message valid: {is_valid_tampered}\")"
      ],
      "metadata": {
        "colab": {
          "base_uri": "https://localhost:8080/"
        },
        "id": "1lSnvV8cr4hV",
        "outputId": "15d35a1f-4252-4c65-f561-1b7a29570f37"
      },
      "execution_count": 12,
      "outputs": [
        {
          "output_type": "stream",
          "name": "stdout",
          "text": [
            "Private key (hex): b47de101296b043129b0df2d374ab8d5092d5f9aaaea380e93796423aac9de1e\n",
            "Public key (hex): 63ff9ffb6b47296f7324b3381c28a425b76882020af5f2e4d8e41d9e418f7f4506e7000eea9578c265bafb970d78c19219b4cb2009894e17fc73480c986ad700\n",
            "Signature (hex): 73db10593df5363d3812adfa1087a8a95940b742f073e701a50ccb97f0aebd5ef649c0ed5c7442756847856362b6f0715a678899921db56f1d03803715d37bf4\n",
            "Signature valid: True\n",
            "Tampered message valid: False\n"
          ]
        }
      ]
    },
    {
      "cell_type": "markdown",
      "source": [
        "# **Merkle Trees**"
      ],
      "metadata": {
        "id": "Bb8e_RHlw50E"
      }
    },
    {
      "cell_type": "code",
      "source": [
        "import hashlib\n",
        "from typing import List, Optional\n",
        "\n",
        "class MerkleTree:\n",
        "    def __init__(self, data: List[bytes]):\n",
        "        \"\"\"Initialize Merkle Tree with list of data items\"\"\"\n",
        "        if not data:\n",
        "            raise ValueError(\"Empty data list\")\n",
        "\n",
        "        self.leaves = [self._hash(item) for item in data]\n",
        "        self.tree = self.build_tree(self.leaves)\n",
        "\n",
        "    @staticmethod\n",
        "    def _hash(data: bytes) -> bytes:\n",
        "        \"\"\"Double SHA-256 hash (Bitcoin standard)\"\"\"\n",
        "        return hashlib.sha256(hashlib.sha256(data).digest()).digest()\n",
        "\n",
        "    def build_tree(self, leaves: List[bytes]) -> List[List[bytes]]:\n",
        "        \"\"\"Build the Merkle tree from leaves\"\"\"\n",
        "        tree = [leaves]\n",
        "        current_level = leaves\n",
        "\n",
        "        while len(current_level) > 1:\n",
        "            next_level = []\n",
        "\n",
        "            # Pair up nodes and hash them together\n",
        "            for i in range(0, len(current_level), 2):\n",
        "                left = current_level[i]\n",
        "                right = current_level[i+1] if i+1 < len(current_level) else left\n",
        "                combined = left + right\n",
        "                next_level.append(self._hash(combined))\n",
        "\n",
        "            tree.append(next_level)\n",
        "            current_level = next_level\n",
        "\n",
        "        return tree\n",
        "\n",
        "    def get_root(self) -> bytes:\n",
        "        \"\"\"Get the Merkle root hash\"\"\"\n",
        "        return self.tree[-1][0]\n",
        "\n",
        "    def get_proof(self, index: int) -> List[bytes]:\n",
        "        \"\"\"Get the Merkle proof for a leaf at given index\"\"\"\n",
        "        if index >= len(self.leaves):\n",
        "            raise IndexError(\"Leaf index out of range\")\n",
        "\n",
        "        proof = []\n",
        "        current_index = index\n",
        "\n",
        "        for level in self.tree[:-1]:\n",
        "            # Determine if current node is left or right in pair\n",
        "            pair_index = current_index + 1 if current_index % 2 == 0 else current_index - 1\n",
        "            if pair_index < len(level):\n",
        "                proof.append(level[pair_index])\n",
        "            current_index = current_index // 2\n",
        "\n",
        "        return proof\n",
        "\n",
        "    @staticmethod\n",
        "    def verify_proof(root: bytes, leaf: bytes, proof: List[bytes], index: int) -> bool:\n",
        "        \"\"\"Verify a Merkle proof against known root\"\"\"\n",
        "        current_hash = leaf\n",
        "\n",
        "        for i, sibling in enumerate(proof):\n",
        "            # Determine if proof element is left or right sibling\n",
        "            if index // (2 ** i) % 2 == 0:\n",
        "                combined = current_hash + sibling\n",
        "            else:\n",
        "                combined = sibling + current_hash\n",
        "            current_hash = hashlib.sha256(hashlib.sha256(combined).digest()).digest()\n",
        "\n",
        "        return current_hash == root\n",
        "\n",
        "\n",
        "# Example Usage\n",
        "if __name__ == \"__main__\":\n",
        "    # Sample data (convert strings to bytes)\n",
        "    data = [f\"tx{i}\".encode() for i in range(1, 5)]\n",
        "    print(\"Original data:\", [d.decode() for d in data])\n",
        "\n",
        "    # Build Merkle Tree\n",
        "    merkle_tree = MerkleTree(data)\n",
        "    print(\"Merkle Root:\", merkle_tree.get_root().hex())\n",
        "\n",
        "    # Get and verify proof for first transaction\n",
        "    proof = merkle_tree.get_proof(0)\n",
        "    print(\"Proof for tx1:\", [p.hex() for p in proof])\n",
        "\n",
        "    is_valid = MerkleTree.verify_proof(\n",
        "        merkle_tree.get_root(),\n",
        "        merkle_tree.leaves[0],\n",
        "        proof,\n",
        "        0\n",
        "    )\n",
        "    print(\"Proof valid:\", is_valid)\n",
        "\n",
        "    # Test with invalid data\n",
        "    fake_data = \"fake_tx\".encode()\n",
        "    is_valid_fake = MerkleTree.verify_proof(\n",
        "        merkle_tree.get_root(),\n",
        "        fake_data,\n",
        "        proof,\n",
        "        0\n",
        "    )\n",
        "    print(\"Proof with fake data:\", is_valid_fake)"
      ],
      "metadata": {
        "colab": {
          "base_uri": "https://localhost:8080/"
        },
        "id": "3EtsghbhwgJQ",
        "outputId": "0769cc16-a7f5-4ec3-fb1c-bc02bc47c267"
      },
      "execution_count": 13,
      "outputs": [
        {
          "output_type": "stream",
          "name": "stdout",
          "text": [
            "Original data: ['tx1', 'tx2', 'tx3', 'tx4']\n",
            "Merkle Root: ef58d462072a7f0af6b80212ef874a82fde181959e0116d1e5b325d980b6c6ae\n",
            "Proof for tx1: ['79043a4d1d4d6d0b830519bfc07b92b4d162a4cd54235719c2c3cc211a638dfd', '2b96a3274331a359d5afbcfd22cb36cd30fdc2306d9bc9c172b399635841a423']\n",
            "Proof valid: True\n",
            "Proof with fake data: False\n"
          ]
        }
      ]
    }
  ]
}